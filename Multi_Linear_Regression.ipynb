{
  "nbformat": 4,
  "nbformat_minor": 0,
  "metadata": {
    "colab": {
      "provenance": []
    },
    "kernelspec": {
      "name": "python3",
      "display_name": "Python 3"
    },
    "language_info": {
      "name": "python"
    }
  },
  "cells": [
    {
      "cell_type": "markdown",
      "source": [
        "# Homework: Multi-Linear Regression\n",
        "\n",
        "For this homework assignment, you will build a linear regression model with multiple input features.\n",
        "\n",
        "Below is a example dataset of house prices. The objective is to predict the price of a house based on its size (sq. ft.), number of bedrooms, and age (years)."
      ],
      "metadata": {
        "id": "9i7QGeyuXfvi"
      }
    },
    {
      "cell_type": "code",
      "source": [
        "import torch\n",
        "\n",
        "# Features: size (sq. ft.), bedrooms, age (years)\n",
        "X = torch.tensor([\n",
        "    [1500, 3, 10], [1800, 4, 5], [1200, 2, 20],\n",
        "    [2200, 4, 2], [1650, 3, 8], [3000, 5, 1],\n",
        "    [1100, 2, 30], [2500, 4, 3], [1900, 3, 12]\n",
        "], dtype=torch.float32)\n",
        "\n",
        "# Target: price (in $1000s)\n",
        "y = torch.tensor([300, 380, 250, 450, 350, 550, 220, 500, 400],\n",
        "                dtype=torch.float32)"
      ],
      "metadata": {
        "id": "YHW7zxtdYGzu"
      },
      "execution_count": 1,
      "outputs": []
    },
    {
      "cell_type": "markdown",
      "source": [
        "The size values are much greater than values from the other two features. To avoid having size dominant in the model, we need to put these values to the same scale. This process is called **data normalization**."
      ],
      "metadata": {
        "id": "5vZ2QaBnYNtA"
      }
    },
    {
      "cell_type": "code",
      "source": [
        "from sklearn.preprocessing import StandardScaler\n",
        "# Normalize features\n",
        "scaler = StandardScaler()\n",
        "X_scaled = scaler.fit_transform(X)\n",
        "X_scaled = torch.tensor(X_scaled)"
      ],
      "metadata": {
        "id": "V0eb3ogwYMMB"
      },
      "execution_count": 2,
      "outputs": []
    },
    {
      "cell_type": "markdown",
      "source": [
        "1. Initialize Parameters: Create a weight w1, w2, w3 and a bias b that require gradients. Initialize them as a torch tensor with random values (e.g., torch.randn). Remember to set `requires_grad=True`."
      ],
      "metadata": {
        "id": "ijD-ol8AY1Vb"
      }
    },
    {
      "cell_type": "code",
      "source": [
        "import torch\n",
        "\n",
        "w0 = torch.randn(1, requires_grad=True)\n",
        "w1 = torch.randn(1, requires_grad=True)\n",
        "w2 = torch.randn(1, requires_grad=True)\n",
        "b = torch.randn(1, requires_grad=True)"
      ],
      "metadata": {
        "id": "kJc_oTypY8O_"
      },
      "execution_count": 3,
      "outputs": []
    },
    {
      "cell_type": "markdown",
      "source": [
        "2. Define the Model: The linear model calculates the prediction as follows:\n",
        "\n",
        "prediction = w0 * size + w1 * bedrooms + w2 * age + b\n",
        "\n",
        "Write a simple function model(X) that calculates the predicted y_pred using the expression:\n",
        "\n",
        "`y_pred=X[:, 0] * w0 + X[:, 1] * w1 + X[:, 2] * w2 + b`"
      ],
      "metadata": {
        "id": "l0T48nvsY8mJ"
      }
    },
    {
      "cell_type": "code",
      "source": [
        "def model(X):\n",
        "    return X[:, 0] * w0 + X[:, 1] * w1 + X[:, 2] * w2 + b"
      ],
      "metadata": {
        "id": "qMsTKDMhZGih"
      },
      "execution_count": 4,
      "outputs": []
    },
    {
      "cell_type": "markdown",
      "source": [
        "3. Define Loss Function and Optimizer:\n",
        "\n",
        "- Use Mean Squared Error (MSE) as your loss function\n",
        "- Use Stochastic Gradient Descent (SGD) as your optimizer. torch.optim.SGD will work."
      ],
      "metadata": {
        "id": "gT4dUUESZG2N"
      }
    },
    {
      "cell_type": "code",
      "source": [
        "import torch.nn as nn\n",
        "\n",
        "loss_fn = nn.MSELoss()\n",
        "optimizer = torch.optim.SGD([w0, w1, w2, b], lr=0.01)"
      ],
      "metadata": {
        "id": "MRvz5ZDkZLy6"
      },
      "execution_count": 5,
      "outputs": []
    },
    {
      "cell_type": "markdown",
      "source": [
        "4. Training Loop:\n",
        "\n",
        "In a loop:\n",
        "a.  Calculate the model's prediction (y_pred).\n",
        "b.  Compute the loss.\n",
        "c.  Zero out the gradients with optimizer.zero_grad()\n",
        "d. Calculate the gradients using loss.backward().\n",
        "e. Update the parameters using optimizer.step().\n",
        "\n",
        "Execute the training loop with an proper number of epochs. Print the loss during training to observe the training progress."
      ],
      "metadata": {
        "id": "GKAHhG-fZa6P"
      }
    },
    {
      "cell_type": "code",
      "source": [
        "# Loop over a fixed number of epochs\n",
        "for epoch in range(400):\n",
        "    # a. Calculate the model's prediction\n",
        "    y_pred = model(X)\n",
        "\n",
        "    # b. Compute the loss\n",
        "    loss = loss_fn(y_pred, y)\n",
        "\n",
        "    # c. Zero out the gradients\n",
        "    optimizer.zero_grad()\n",
        "\n",
        "    # d. Calculate the gradients\n",
        "    loss.backward()\n",
        "\n",
        "    # e. Update the parameters\n",
        "    optimizer.step()\n",
        "\n",
        "    # Execute training loop and print loss during training\n",
        "    if epoch % 50 == 0:\n",
        "        print(f\"Epoch {epoch:3d} | Loss: {loss.item():.4f}\")\n"
      ],
      "metadata": {
        "id": "SU1A_eDc8-x3",
        "colab": {
          "base_uri": "https://localhost:8080/"
        },
        "outputId": "67795f9c-4fb2-4b79-e4b2-d9e257905290"
      },
      "execution_count": 6,
      "outputs": [
        {
          "output_type": "stream",
          "name": "stdout",
          "text": [
            "Epoch   0 | Loss: 199958.8281\n",
            "Epoch  50 | Loss: nan\n",
            "Epoch 100 | Loss: nan\n",
            "Epoch 150 | Loss: nan\n",
            "Epoch 200 | Loss: nan\n",
            "Epoch 250 | Loss: nan\n",
            "Epoch 300 | Loss: nan\n",
            "Epoch 350 | Loss: nan\n"
          ]
        }
      ]
    },
    {
      "cell_type": "markdown",
      "source": [
        "5. Results: After the loop, print the final learned values for w and b."
      ],
      "metadata": {
        "id": "zi9lq2rMZb_U"
      }
    },
    {
      "cell_type": "code",
      "source": [
        "# Print final parameter values for w and b\n",
        "print(\"Learned Parameters:\")\n",
        "print(\"w = [%.4f, %.4f, %.4f]\" % (w0.item(), w1.item(), w2.item()))\n",
        "print(\"b = %.4f\" % b.item())"
      ],
      "metadata": {
        "id": "5Y_n_uMAZhfL",
        "colab": {
          "base_uri": "https://localhost:8080/"
        },
        "outputId": "4ad243fd-bbb7-4127-ad01-cae57b87b9cd"
      },
      "execution_count": 7,
      "outputs": [
        {
          "output_type": "stream",
          "name": "stdout",
          "text": [
            "Learned Parameters:\n",
            "w = [nan, nan, nan]\n",
            "b = nan\n"
          ]
        }
      ]
    }
  ]
}