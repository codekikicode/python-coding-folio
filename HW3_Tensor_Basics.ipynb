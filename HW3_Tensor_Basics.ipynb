{
  "nbformat": 4,
  "nbformat_minor": 0,
  "metadata": {
    "colab": {
      "provenance": [],
      "include_colab_link": true
    },
    "kernelspec": {
      "name": "python3",
      "display_name": "Python 3"
    },
    "language_info": {
      "name": "python"
    }
  },
  "cells": [
    {
      "cell_type": "markdown",
      "metadata": {
        "id": "view-in-github",
        "colab_type": "text"
      },
      "source": [
        "<a href=\"https://colab.research.google.com/github/codekikicode/python-coding-folio/blob/main/HW3_Tensor_Basics.ipynb\" target=\"_parent\"><img src=\"https://colab.research.google.com/assets/colab-badge.svg\" alt=\"Open In Colab\"/></a>"
      ]
    },
    {
      "cell_type": "markdown",
      "source": [
        "# Homework: Tensors"
      ],
      "metadata": {
        "id": "tZ2HWfM8oNEh"
      }
    },
    {
      "cell_type": "markdown",
      "source": [
        "1. Create a tensor `a` from `list(range(9))`. Print the tensor and display its shape."
      ],
      "metadata": {
        "id": "1e1w6xOam4lV"
      }
    },
    {
      "cell_type": "code",
      "source": [
        "import torch\n",
        "a = torch.tensor(list(range(9)))\n",
        "print(\"Tensor a:\", a)\n",
        "print(\"Shape of a:\", a.shape)"
      ],
      "metadata": {
        "id": "4zHIdARbnD75",
        "colab": {
          "base_uri": "https://localhost:8080/"
        },
        "outputId": "93f7bd9b-40f4-400b-f405-dc90e86040ae"
      },
      "execution_count": null,
      "outputs": [
        {
          "output_type": "stream",
          "name": "stdout",
          "text": [
            "Tensor a: tensor([0, 1, 2, 3, 4, 5, 6, 7, 8])\n",
            "Shape of a: torch.Size([9])\n"
          ]
        }
      ]
    },
    {
      "cell_type": "markdown",
      "source": [
        "2. Create a new tensor using `b = a.view(3, 3)`. Explain what `view` does to the tensor and display `b`."
      ],
      "metadata": {
        "id": "wBqQYuHVnUCc"
      }
    },
    {
      "cell_type": "code",
      "source": [
        "b = a.view(3, 3)\n",
        "print(\"Tensor b:\", b)\n",
        "print(\"Shape of b:\", b.shape)"
      ],
      "metadata": {
        "id": "oFiUHIPbneVy",
        "colab": {
          "base_uri": "https://localhost:8080/"
        },
        "outputId": "7b0f1a40-20ff-4003-b8c6-e86059150a1d"
      },
      "execution_count": null,
      "outputs": [
        {
          "output_type": "stream",
          "name": "stdout",
          "text": [
            "Tensor b: tensor([[100,   1,   2],\n",
            "        [  3,   4,   5],\n",
            "        [  6,   7,   8]])\n",
            "Shape of b: torch.Size([3, 3])\n"
          ]
        }
      ]
    },
    {
      "cell_type": "markdown",
      "source": [
        "view() modifies an existing tensor without copying data; the modified tensor shares the same storage as the original tensor. In this section, I'm reshaping the one-dimensional (1D) tensor a into a two-dimensional (2D) tensor b of size shape (3, 3)."
      ],
      "metadata": {
        "id": "1tgArDzG7eAS"
      }
    },
    {
      "cell_type": "markdown",
      "source": [
        "3. Change the first element of `b` to 100. Print `a` and `b`. Notice that tensor `a` is also affected by the assignment."
      ],
      "metadata": {
        "id": "KIJceooaniTZ"
      }
    },
    {
      "cell_type": "code",
      "source": [
        "import torch\n",
        "a = torch.tensor(list(range(9)))\n",
        "b = a.view(3, 3)\n",
        "\n",
        "b[0, 0] = 100\n",
        "print(\"Tensor b after modification: \\n\", a)\n",
        "print(\"Tensor a after modification: \\n\", b)"
      ],
      "metadata": {
        "id": "SALXAvbLnhqS",
        "colab": {
          "base_uri": "https://localhost:8080/"
        },
        "outputId": "0e9dc345-152a-4842-c1bd-b18886641c1c"
      },
      "execution_count": null,
      "outputs": [
        {
          "output_type": "stream",
          "name": "stdout",
          "text": [
            "Tensor b after modification: \n",
            " tensor([100,   1,   2,   3,   4,   5,   6,   7,   8])\n",
            "Tensor a after modification: \n",
            " tensor([[100,   1,   2],\n",
            "        [  3,   4,   5],\n",
            "        [  6,   7,   8]])\n"
          ]
        }
      ]
    },
    {
      "cell_type": "markdown",
      "source": [
        "4. Find a function in the `torch` library that calculates the logrithm of numbers. Apply the function to tensor `a` and print the results."
      ],
      "metadata": {
        "id": "ky5o40qTnH2W"
      }
    },
    {
      "cell_type": "code",
      "source": [
        "import torch\n",
        "\n",
        "a = torch.tensor(list(range(9)))\n",
        "\n",
        "a_float = a.float()\n",
        "\n",
        "log_a = torch.log(a_float + 1)\n",
        "print(\"Original tensor a:\", a)\n",
        "print(\"Logarithm of a:\", log_a)"
      ],
      "metadata": {
        "id": "11MYSDfpn9tJ",
        "colab": {
          "base_uri": "https://localhost:8080/"
        },
        "outputId": "84379994-0dcf-4d9f-903d-cbd4ccece215"
      },
      "execution_count": null,
      "outputs": [
        {
          "output_type": "stream",
          "name": "stdout",
          "text": [
            "Original tensor a: tensor([0, 1, 2, 3, 4, 5, 6, 7, 8])\n",
            "Logarithm of a: tensor([0.0000, 0.6931, 1.0986, 1.3863, 1.6094, 1.7918, 1.9459, 2.0794, 2.1972])\n"
          ]
        }
      ]
    }
  ]
}